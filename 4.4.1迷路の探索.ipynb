{
 "cells": [
  {
   "cell_type": "code",
   "execution_count": 6,
   "metadata": {},
   "outputs": [
    {
     "name": "stdout",
     "output_type": "stream",
     "text": [
      "27\n"
     ]
    }
   ],
   "source": [
    "# maze.py\n",
    "maze = [ # 0:通れる  1:Goal  2:探索済み 9:壁  \n",
    "    [9, 9, 9, 9, 9, 9, 9, 9, 9, 9, 9, 9],\n",
    "    [9, 0, 0, 0, 9, 0, 0, 0, 0, 0, 0, 9],\n",
    "    [9, 0, 9, 0, 0, 0, 9, 9, 0, 9, 9, 9],\n",
    "    [9, 0, 9, 9, 0, 9, 0, 0, 0, 9, 0, 9],\n",
    "    [9, 0, 0, 0, 9, 0, 0, 9, 9, 0, 9, 9],\n",
    "    [9, 9, 9, 0, 0, 9, 0, 9, 0, 0, 1, 9],\n",
    "    [9, 0, 0, 0, 9, 0, 9, 0, 0, 9, 0, 9],\n",
    "    [9, 0, 9, 0, 0, 0, 0, 9, 0, 0, 9, 9],\n",
    "    [9, 0, 0, 9, 0, 9, 0, 0, 9, 0, 0, 9],\n",
    "    [9, 0, 9, 0, 9, 0, 9, 0, 0, 9, 0, 9],\n",
    "    [9, 0, 0, 0, 0, 0, 0, 9, 0, 0, 0, 9],\n",
    "    [9, 9, 9, 9, 9, 9, 9, 9, 9, 9, 9, 9]\n",
    "]\n",
    "\n",
    "# 次の探索候補位置 [x, y, ここまでの経路長]\n",
    "pos = [[1, 1, 0]]\n",
    "\n",
    "while len(pos) > 0:\n",
    "    x, y, depth = pos.pop(0) # 探索位置を取得\n",
    "    \n",
    "    # 終了条件(正常系）\n",
    "    if maze[x][y] == 1:\n",
    "        print(depth)\n",
    "        break\n",
    "    \n",
    "    # 探索済み位置には印2をつける\n",
    "    maze[x][y] = 2\n",
    "    \n",
    "    # 上下左右を探索\n",
    "    if maze[x-1][y] < 2:\n",
    "        pos.append([x-1, y, depth + 1])\n",
    "    if maze[x+1][y] < 2:\n",
    "        pos.append([x+1, y, depth + 1])\n",
    "    if maze[x][y-1] < 2:\n",
    "        pos.append([x, y-1, depth + 1])\n",
    "    if maze[x][y+1] < 2:\n",
    "        pos.append([x, y+1, depth + 1])\n",
    "else:\n",
    "    print('脱出失敗')"
   ]
  },
  {
   "cell_type": "code",
   "execution_count": null,
   "metadata": {},
   "outputs": [],
   "source": []
  }
 ],
 "metadata": {
  "kernelspec": {
   "display_name": "Python 3",
   "language": "python",
   "name": "python3"
  },
  "language_info": {
   "codemirror_mode": {
    "name": "ipython",
    "version": 3
   },
   "file_extension": ".py",
   "mimetype": "text/x-python",
   "name": "python",
   "nbconvert_exporter": "python",
   "pygments_lexer": "ipython3",
   "version": "3.8.0"
  }
 },
 "nbformat": 4,
 "nbformat_minor": 4
}
