{
 "cells": [
  {
   "cell_type": "markdown",
   "metadata": {},
   "source": [
    "# 4.1 線形探索"
   ]
  },
  {
   "cell_type": "code",
   "execution_count": 8,
   "metadata": {},
   "outputs": [
    {
     "name": "stdout",
     "output_type": "stream",
     "text": [
      "8番目のデータが40です。\n"
     ]
    }
   ],
   "source": [
    "# linear_search1.py\n",
    "data = [50, 30, 90, 10, 20, 70, 60, 40, 80]\n",
    "for i in range(len(data)):\n",
    "    if data[i] == 40:\n",
    "        print(f'{i+1}番目のデータが40です。')\n",
    "        break\n",
    "else: # breakでループを抜けなかったか、ループを一度も実行しなかった時\n",
    "    print('Not Found')"
   ]
  },
  {
   "cell_type": "code",
   "execution_count": 10,
   "metadata": {},
   "outputs": [
    {
     "name": "stdout",
     "output_type": "stream",
     "text": [
      "7\n"
     ]
    }
   ],
   "source": [
    "# linear_searh2.py\n",
    "# 線形探索を関数化\n",
    "\n",
    "def linear_search(data, value) -> int:\n",
    "    for i in range(len(data)):\n",
    "        if data[i] == 40:\n",
    "            return i\n",
    "    else: # breakでループを抜けなかったか、ループを一度も実行しなかった時\n",
    "        return -1\n",
    "\n",
    "data = [50, 30, 90, 10, 20, 70, 60, 40, 80]\n",
    "print(linear_search(data, 40))"
   ]
  },
  {
   "cell_type": "markdown",
   "metadata": {},
   "source": [
    "# 4.2 二分探索"
   ]
  },
  {
   "cell_type": "code",
   "execution_count": null,
   "metadata": {},
   "outputs": [],
   "source": [
    "data = [10, 20, 30, 40, 50, 60, 70, 80, 90]"
   ]
  },
  {
   "cell_type": "code",
   "execution_count": 19,
   "metadata": {},
   "outputs": [
    {
     "name": "stdout",
     "output_type": "stream",
     "text": [
      "left=0, center=4, right=8\n",
      "data[left]=10, data[center]=50, data[right]=90\n"
     ]
    },
    {
     "name": "stdin",
     "output_type": "stream",
     "text": [
      " \n"
     ]
    },
    {
     "name": "stdout",
     "output_type": "stream",
     "text": [
      "left=5, center=6, right=8\n",
      "data[left]=60, data[center]=70, data[right]=90\n"
     ]
    },
    {
     "name": "stdin",
     "output_type": "stream",
     "text": [
      " \n"
     ]
    },
    {
     "name": "stdout",
     "output_type": "stream",
     "text": [
      "left=7, center=7, right=8\n",
      "data[left]=80, data[center]=80, data[right]=90\n"
     ]
    },
    {
     "name": "stdin",
     "output_type": "stream",
     "text": [
      " \n"
     ]
    },
    {
     "name": "stdout",
     "output_type": "stream",
     "text": [
      "left=8, center=8, right=8\n",
      "data[left]=90, data[center]=90, data[right]=90\n"
     ]
    },
    {
     "name": "stdin",
     "output_type": "stream",
     "text": [
      " \n"
     ]
    },
    {
     "name": "stdout",
     "output_type": "stream",
     "text": [
      "8\n"
     ]
    }
   ],
   "source": [
    "# binary_search.py\n",
    "\n",
    "def binary_search(data, value):\n",
    "    left = 0\n",
    "    right = len(data) - 1\n",
    "    \n",
    "    while(left <= right):\n",
    "        center = (right + left ) // 2\n",
    "        print(f'{left=}, {center=}, {right=}')\n",
    "        print(f'{data[left]=}, {data[center]=}, {data[right]=}')\n",
    "        input()\n",
    "        \n",
    "        if data[center] == value:\n",
    "            return center\n",
    "\n",
    "        elif data[center] < value:\n",
    "            left = center + 1\n",
    "        else:\n",
    "            right = center -1\n",
    "    return -1\n",
    "\n",
    "data = [10, 20, 30, 40, 50, 60, 70, 80, 90]\n",
    "print(binary_search(data, 90))\n",
    "    "
   ]
  },
  {
   "cell_type": "markdown",
   "metadata": {},
   "source": [
    "二分探索法の場合\n",
    "\n",
    "データ数: n だとして\n",
    "- 1回目の比較で、 対象データ数は $n/2$ に減る\n",
    "- 2回目の比較で、 対象データ数は $n/4$ に減る\n",
    "- 3回目の比較で、 対象データ数は $n/8$ に減る\n",
    "- ...\n",
    "- x回目の比較で、 対象データ数は $n/2^x$ に減る\n",
    "\n",
    "対象データ数が 1 になった時が結果が出た時なので、\n",
    "$$\n",
    "n/2^x = 1 \\\\\n",
    "\\\\\n",
    "つまり、  \\\\\n",
    "x = \\log_{ 2 } n 回の計算で結果が求まる\\\\\n",
    "\\\\\n",
    "計算量は O( \\log_{}n )\n",
    "$$"
   ]
  },
  {
   "cell_type": "code",
   "execution_count": null,
   "metadata": {},
   "outputs": [],
   "source": [
    "# スキップリスト - 連結リストの高速探索"
   ]
  },
  {
   "cell_type": "markdown",
   "metadata": {},
   "source": [
    "# 4.3幅優先探索と深さ優先探索\n",
    "\n",
    "- 木構造 tree structure: ノード(node) と エッジ(edge）\n",
    "- 幅優先探索(BFS) breadth first search: 最短で答えを1つだけ得られればいい時に、高速で探せる。\n",
    "- 深さ優先探索(DFS) depth first search: すべての答えを見つける時に、少ないメモリ使用量で探せる。"
   ]
  },
  {
   "cell_type": "code",
   "execution_count": 8,
   "metadata": {},
   "outputs": [
    {
     "name": "stdout",
     "output_type": "stream",
     "text": [
      "cnt=1, data=[] -> data=[1, 2]\n",
      "cnt=2, data=[2] -> data=[2, 3, 4]\n",
      "cnt=3, data=[3, 4] -> data=[3, 4, 5, 6]\n",
      "cnt=4, data=[4, 5, 6] -> data=[4, 5, 6, 7, 8]\n",
      "cnt=5, data=[5, 6, 7, 8] -> data=[5, 6, 7, 8, 9, 10]\n",
      "cnt=6, data=[6, 7, 8, 9, 10] -> data=[6, 7, 8, 9, 10, 11, 12]\n",
      "cnt=7, data=[7, 8, 9, 10, 11, 12] -> data=[7, 8, 9, 10, 11, 12, 13, 14]\n",
      "cnt=8, data=[8, 9, 10, 11, 12, 13, 14] -> data=[8, 9, 10, 11, 12, 13, 14]\n",
      "cnt=9, data=[9, 10, 11, 12, 13, 14] -> data=[9, 10, 11, 12, 13, 14]\n",
      "cnt=10, data=[10, 11, 12, 13, 14] -> data=[10, 11, 12, 13, 14]\n",
      "cnt=11, data=[11, 12, 13, 14] -> data=[11, 12, 13, 14]\n",
      "cnt=12, data=[12, 13, 14] -> data=[12, 13, 14]\n",
      "cnt=13, data=[13, 14] -> data=[13, 14]\n",
      "cnt=14, data=[14] -> data=[14]\n",
      "cnt=15, data=[] -> data=[]\n"
     ]
    }
   ],
   "source": [
    "# breath_search.py\n",
    "tree = [ #子ノードの位置(index値)をリストで保持\n",
    "        [1, 2], \n",
    "        [3, 4], [5, 6], \n",
    "        [7, 8], [9, 10], [11, 12], [13, 14], \n",
    "        [], [], [], [], [], [], [], []\n",
    "       ]\n",
    "\n",
    "data = [0]\n",
    "cnt = 0\n",
    "while len(data) > 0:\n",
    "    cnt += 1\n",
    "    pos = data.pop(0)\n",
    "    print(f'{cnt=}, {data=}', end=' ')\n",
    "    \n",
    "    for i in tree[pos]:\n",
    "        data.append(i)\n",
    "    print(f'{data=}')"
   ]
  },
  {
   "cell_type": "code",
   "execution_count": 32,
   "metadata": {},
   "outputs": [
    {
     "name": "stdout",
     "output_type": "stream",
     "text": [
      "0\n",
      "   from tree[0]=[1, 2]: search(1)\n",
      "1\n",
      "   from tree[1]=[3, 4]: search(3)\n",
      "3\n",
      "   from tree[3]=[7, 8]: search(7)\n",
      "7\n",
      "   back track\n",
      "   from tree[3]=[7, 8]: search(8)\n",
      "8\n",
      "   back track\n",
      "   back track\n",
      "   from tree[1]=[3, 4]: search(4)\n",
      "4\n",
      "   from tree[4]=[9, 10]: search(9)\n",
      "9\n",
      "   back track\n",
      "   from tree[4]=[9, 10]: search(10)\n",
      "10\n",
      "   back track\n",
      "   back track\n",
      "   back track\n",
      "   from tree[0]=[1, 2]: search(2)\n",
      "2\n",
      "   from tree[2]=[5, 6]: search(5)\n",
      "5\n",
      "   from tree[5]=[11, 12]: search(11)\n",
      "11\n",
      "   back track\n",
      "   from tree[5]=[11, 12]: search(12)\n",
      "12\n",
      "   back track\n",
      "   back track\n",
      "   from tree[2]=[5, 6]: search(6)\n",
      "6\n",
      "   from tree[6]=[13, 14]: search(13)\n",
      "13\n",
      "   back track\n",
      "   from tree[6]=[13, 14]: search(14)\n",
      "14\n",
      "   back track\n",
      "   back track\n",
      "   back track\n",
      "   back track\n"
     ]
    }
   ],
   "source": [
    "# depth_search1.py\n",
    "# 行きがけ順\n",
    "tree = [ #子ノードの位置(index値)をリストで保持\n",
    "        [1, 2], \n",
    "        [3, 4], [5, 6], \n",
    "        [7, 8], [9, 10], [11, 12], [13, 14], \n",
    "        [], [], [], [], [], [], [], []\n",
    "       ]\n",
    "\n",
    "def search(pos):\n",
    "    print(pos)\n",
    "    for i in tree[pos]:\n",
    "        print(f'   from tree[{pos}]={tree[pos]}: search({i})')\n",
    "        search(i)\n",
    "    print('   back track')\n",
    "        \n",
    "search(0)"
   ]
  },
  {
   "cell_type": "code",
   "execution_count": 33,
   "metadata": {},
   "outputs": [
    {
     "name": "stdout",
     "output_type": "stream",
     "text": [
      "   from tree[0]=[1, 2]: search(1)\n",
      "   from tree[1]=[3, 4]: search(3)\n",
      "   from tree[3]=[7, 8]: search(7)\n",
      "   back track\n",
      "7\n",
      "   from tree[3]=[7, 8]: search(8)\n",
      "   back track\n",
      "8\n",
      "   back track\n",
      "3\n",
      "   from tree[1]=[3, 4]: search(4)\n",
      "   from tree[4]=[9, 10]: search(9)\n",
      "   back track\n",
      "9\n",
      "   from tree[4]=[9, 10]: search(10)\n",
      "   back track\n",
      "10\n",
      "   back track\n",
      "4\n",
      "   back track\n",
      "1\n",
      "   from tree[0]=[1, 2]: search(2)\n",
      "   from tree[2]=[5, 6]: search(5)\n",
      "   from tree[5]=[11, 12]: search(11)\n",
      "   back track\n",
      "11\n",
      "   from tree[5]=[11, 12]: search(12)\n",
      "   back track\n",
      "12\n",
      "   back track\n",
      "5\n",
      "   from tree[2]=[5, 6]: search(6)\n",
      "   from tree[6]=[13, 14]: search(13)\n",
      "   back track\n",
      "13\n",
      "   from tree[6]=[13, 14]: search(14)\n",
      "   back track\n",
      "14\n",
      "   back track\n",
      "6\n",
      "   back track\n",
      "2\n",
      "   back track\n",
      "0\n"
     ]
    }
   ],
   "source": [
    "# depth_search2.py\n",
    "# 帰りがけ順\n",
    "tree = [ #子ノードの位置(index値)をリストで保持\n",
    "        [1, 2], \n",
    "        [3, 4], [5, 6], \n",
    "        [7, 8], [9, 10], [11, 12], [13, 14], \n",
    "        [], [], [], [], [], [], [], []\n",
    "       ]\n",
    "\n",
    "def search(pos):\n",
    "    for i in tree[pos]:\n",
    "        print(f'   from tree[{pos}]={tree[pos]}: search({i})')\n",
    "        search(i)\n",
    "    print('   back track')\n",
    "    print(pos)\n",
    "        \n",
    "search(0)"
   ]
  },
  {
   "cell_type": "code",
   "execution_count": 33,
   "metadata": {},
   "outputs": [
    {
     "name": "stdout",
     "output_type": "stream",
     "text": [
      "   from tree[0]=[1, 2]: search(1)\n",
      "   from tree[1]=[3, 4]: search(3)\n",
      "   from tree[3]=[7, 8]: search(7)\n",
      "   back track\n",
      "7\n",
      "   from tree[3]=[7, 8]: search(8)\n",
      "   back track\n",
      "8\n",
      "   back track\n",
      "3\n",
      "   from tree[1]=[3, 4]: search(4)\n",
      "   from tree[4]=[9, 10]: search(9)\n",
      "   back track\n",
      "9\n",
      "   from tree[4]=[9, 10]: search(10)\n",
      "   back track\n",
      "10\n",
      "   back track\n",
      "4\n",
      "   back track\n",
      "1\n",
      "   from tree[0]=[1, 2]: search(2)\n",
      "   from tree[2]=[5, 6]: search(5)\n",
      "   from tree[5]=[11, 12]: search(11)\n",
      "   back track\n",
      "11\n",
      "   from tree[5]=[11, 12]: search(12)\n",
      "   back track\n",
      "12\n",
      "   back track\n",
      "5\n",
      "   from tree[2]=[5, 6]: search(6)\n",
      "   from tree[6]=[13, 14]: search(13)\n",
      "   back track\n",
      "13\n",
      "   from tree[6]=[13, 14]: search(14)\n",
      "   back track\n",
      "14\n",
      "   back track\n",
      "6\n",
      "   back track\n",
      "2\n",
      "   back track\n",
      "0\n"
     ]
    }
   ],
   "source": [
    "# depth_search3.py\n",
    "# 通りがけ順\n",
    "tree = [ #子ノードの位置(index値)をリストで保持\n",
    "        [1, 2], \n",
    "        [3, 4], [5, 6], \n",
    "        [7, 8], [9, 10], [11, 12], [13, 14], \n",
    "        [], [], [], [], [], [], [], []\n",
    "       ]\n",
    "\n",
    "def search(pos):\n",
    "    pass\n",
    "\n",
    "search(0)"
   ]
  }
 ],
 "metadata": {
  "kernelspec": {
   "display_name": "Python 3",
   "language": "python",
   "name": "python3"
  },
  "language_info": {
   "codemirror_mode": {
    "name": "ipython",
    "version": 3
   },
   "file_extension": ".py",
   "mimetype": "text/x-python",
   "name": "python",
   "nbconvert_exporter": "python",
   "pygments_lexer": "ipython3",
   "version": "3.8.0"
  }
 },
 "nbformat": 4,
 "nbformat_minor": 4
}
