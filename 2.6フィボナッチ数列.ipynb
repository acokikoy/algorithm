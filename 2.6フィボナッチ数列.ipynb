{
 "cells": [
  {
   "cell_type": "markdown",
   "metadata": {},
   "source": [
    "# フィボナッチ数列"
   ]
  },
  {
   "cell_type": "code",
   "execution_count": 2,
   "metadata": {},
   "outputs": [
    {
     "name": "stdout",
     "output_type": "stream",
     "text": [
      "9227465\n",
      "4.28246283531189\n"
     ]
    }
   ],
   "source": [
    "# fibonacci1.py\n",
    "import time\n",
    "\n",
    "def fibonacci(n):\n",
    "    if (n == 1) or (n == 2):\n",
    "        return 1\n",
    "    return fibonacci(n-2) + fibonacci(n-1)\n",
    "\n",
    "start = time.time()\n",
    "print(fibonacci(35))\n",
    "elapsed = time.time() - start\n",
    "print(elapsed)"
   ]
  },
  {
   "cell_type": "code",
   "execution_count": 1,
   "metadata": {},
   "outputs": [
    {
     "name": "stdout",
     "output_type": "stream",
     "text": [
      "9227465\n",
      "0.0004987716674804688\n"
     ]
    }
   ],
   "source": [
    "#fibonacci3.py\n",
    "import time\n",
    "memo = {1:1, 2:1}\n",
    "\n",
    "def fibonacci(n):\n",
    "    if n in memo:\n",
    "        return memo[n]    \n",
    "    memo[n] = fibonacci(n-2) + fibonacci(n-1)\n",
    "    return memo[n]\n",
    "\n",
    "start = time.time()\n",
    "print(fibonacci(35))\n",
    "elapsed = time.time() - start\n",
    "print(elapsed)"
   ]
  },
  {
   "cell_type": "code",
   "execution_count": 6,
   "metadata": {},
   "outputs": [
    {
     "name": "stdout",
     "output_type": "stream",
     "text": [
      "49\n",
      "1952, 1956, 1960, 1964, 1968, 1972, 1976, 1980, 1984, 1988, 1992, 1996, 2000, 2004, 2008, 2012, 2016, 2020, 2024, 2028, 2032, 2036, 2040, 2044, 2048, 2052, 2056, 2060, 2064, 2068, 2072, 2076, 2080, 2084, 2088, 2092, 2096, 2104, 2108, 2112, 2116, 2120, 2124, 2128, 2132, 2136, 2140, 2144, 2148, "
     ]
    }
   ],
   "source": [
    "# ex1 閏年判定\n",
    "\n",
    "def is_leap_year(year):\n",
    "    if year % 4 != 0: #４で割り切れない\n",
    "        return False\n",
    "    elif year % 100 != 0: #4の倍数だが100で割り切れない\n",
    "        return True\n",
    "    elif year % 400 == 0:\n",
    "        return True\n",
    "    else:\n",
    "        return False\n",
    "\n",
    "leap_years = [year for year in range(1950, 2151) if is_leap_year(year)]\n",
    "print(len(leap_years))\n",
    "for y in leap_years:\n",
    "    print(y, end=\", \")\n"
   ]
  },
  {
   "cell_type": "code",
   "execution_count": 6,
   "metadata": {},
   "outputs": [
    {
     "name": "stdout",
     "output_type": "stream",
     "text": [
      "49\n",
      "1952, 1956, 1960, 1964, 1968, 1972, 1976, 1980, 1984, 1988, 1992, 1996, 2000, 2004, 2008, 2012, 2016, 2020, 2024, 2028, 2032, 2036, 2040, 2044, 2048, 2052, 2056, 2060, 2064, 2068, 2072, 2076, 2080, 2084, 2088, 2092, 2096, 2104, 2108, 2112, 2116, 2120, 2124, 2128, 2132, 2136, 2140, 2144, 2148, "
     ]
    }
   ],
   "source": [
    "# ex1 閏年判定\n",
    "\n",
    "def is_leap_year(year):\n",
    "    if year % 4 == 0:\n",
    "        if (year % 100 == 0) and (year % 400 != 0):\n",
    "            return False\n",
    "        else:\n",
    "            return True\n",
    "    return False\n",
    "\n",
    "leap_years = [year for year in range(1950, 2151) if is_leap_year(year)]\n",
    "print(len(leap_years))\n",
    "for y in leap_years:\n",
    "    print(y, end=\", \")\n"
   ]
  },
  {
   "cell_type": "code",
   "execution_count": 11,
   "metadata": {},
   "outputs": [
    {
     "name": "stdout",
     "output_type": "stream",
     "text": [
      "平成12年\n"
     ]
    }
   ],
   "source": [
    "# ex2 元号変換\n",
    "\n",
    "def ad_to_gengo(ad:int):\n",
    "    gannen = [(2019, \"令和\"), (1989, \"平成\"), (1926, \"昭和\"), (1912, \"大正\"), (1868, \"明治\")]\n",
    "    \n",
    "    for g in gannen:\n",
    "        if ad - g[0] > 0:\n",
    "            return g[1]+str(ad-g[0]+1)+\"年\"\n",
    "\n",
    "    return \"該当ありません\"\n",
    "\n",
    "print(ad_to_gengo(2000))"
   ]
  }
 ],
 "metadata": {
  "kernelspec": {
   "display_name": "Python 3",
   "language": "python",
   "name": "python3"
  },
  "language_info": {
   "codemirror_mode": {
    "name": "ipython",
    "version": 3
   },
   "file_extension": ".py",
   "mimetype": "text/x-python",
   "name": "python",
   "nbconvert_exporter": "python",
   "pygments_lexer": "ipython3",
   "version": "3.8.0"
  }
 },
 "nbformat": 4,
 "nbformat_minor": 4
}
