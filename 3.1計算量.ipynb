{
 "cells": [
  {
   "cell_type": "markdown",
   "metadata": {},
   "source": [
    "- アルゴリズム: 問題を解く手順のこと\n",
    "- アルゴリズムの性能を評価する計算量(Compulational Complexity）: \n",
    "    - 時間計算量（処理時間）、空間計算量（メモリ使用率）、通信計算量、回路計算量\n",
    "    - 通常は時間計算量で評価する\n",
    "\n",
    "## 時間計算量\n",
    "\n",
    "- 基本単位を「ステップ数」と呼ぶ\n",
    "- オーダー記法: \n",
    "    - $ O(n), O(n^2) $\n",
    "    - O はランダウの記号と呼ばれる\n",
    "- 最悪時間計算量（通常はこれで評価する）\n",
    "- 平均時間計算量 (最悪時間計算量の発生頻度が非常に低い場合に用いることがある"
   ]
  }
 ],
 "metadata": {
  "kernelspec": {
   "display_name": "Python 3",
   "language": "python",
   "name": "python3"
  },
  "language_info": {
   "codemirror_mode": {
    "name": "ipython",
    "version": 3
   },
   "file_extension": ".py",
   "mimetype": "text/x-python",
   "name": "python",
   "nbconvert_exporter": "python",
   "pygments_lexer": "ipython3",
   "version": "3.8.0"
  }
 },
 "nbformat": 4,
 "nbformat_minor": 4
}
