{
 "cells": [
  {
   "cell_type": "markdown",
   "metadata": {},
   "source": [
    "# 素数判定"
   ]
  },
  {
   "cell_type": "code",
   "execution_count": 31,
   "metadata": {},
   "outputs": [
    {
     "name": "stdin",
     "output_type": "stream",
     "text": [
      "素数判定の範囲: 1 -  1000000\n"
     ]
    },
    {
     "name": "stdout",
     "output_type": "stream",
     "text": [
      "素数: \n",
      "\n",
      "処理にかかった時間: 8.024318933486938sec\n"
     ]
    }
   ],
   "source": [
    "# is_prime.py 素数判定\n",
    "import math\n",
    "import time\n",
    "\n",
    "\n",
    "def is_prime(n:int):\n",
    "    if n <= 1:\n",
    "        return False # 素数は1より大きい自然数\n",
    "    for i in range(2, int(math.sqrt(n)+1)):\n",
    "        if n % i == 0:  # iが約数なら、nは素数ではない\n",
    "            return False\n",
    "    return True            \n",
    "\n",
    "\n",
    "max = int(input(\"素数判定の範囲: 1 - \"))\n",
    "start = time.time()\n",
    "\n",
    "print(\"素数: \")\n",
    "prime = [i for i in range(max) if is_prime(i)]\n",
    "\n",
    "elapsed = time.time() - start\n",
    "print(f\"\\n処理にかかった時間: {elapsed}sec\")\n",
    "# print(prime)"
   ]
  },
  {
   "cell_type": "code",
   "execution_count": 32,
   "metadata": {},
   "outputs": [
    {
     "name": "stdin",
     "output_type": "stream",
     "text": [
      "素数判定の範囲: 1 -  1000000\n"
     ]
    },
    {
     "name": "stdout",
     "output_type": "stream",
     "text": [
      "\n",
      "処理にかかった時間: 2.4354171752929688sec\n"
     ]
    }
   ],
   "source": [
    "# eratosthenes.py エラトステネスの篩\n",
    "import math\n",
    "import time\n",
    "\n",
    "\n",
    "def get_prime(n):\n",
    "    if n <= 1:\n",
    "        return []\n",
    "    prime = [2]\n",
    "    limit = int(math.sqrt(n))\n",
    "    \n",
    "    data = [i+1 for i in range(2, n, 2)]\n",
    "    while limit > data[0]:\n",
    "        prime.append(data[0])\n",
    "        data = [j for j in data if j % data[0] != 0]\n",
    "    return prime + data\n",
    "\n",
    "max = int(input(\"素数判定の範囲: 1 - \"))\n",
    "\n",
    "start = time.time()\n",
    "prime = get_prime(max)\n",
    "elapsed = time.time() - start\n",
    "\n",
    "print(f\"\\n処理にかかった時間: {elapsed}sec\")\n",
    "# print(prime)"
   ]
  },
  {
   "cell_type": "code",
   "execution_count": 36,
   "metadata": {},
   "outputs": [
    {
     "name": "stdin",
     "output_type": "stream",
     "text": [
      "素数判定の範囲: 1 -  1000000\n"
     ]
    },
    {
     "name": "stdout",
     "output_type": "stream",
     "text": [
      "\n",
      "処理にかかった時間: 0.4767770767211914sec\n"
     ]
    }
   ],
   "source": [
    "# sypy1.py SymPyライブラリ利用\n",
    "from sympy import sieve\n",
    "import time\n",
    "\n",
    "\n",
    "max = int(input(\"素数判定の範囲: 1 - \"))\n",
    "start = time.time()\n",
    "prime = [i for i in sieve.primerange(1, max)]\n",
    "elapsed = time.time() - start\n",
    "\n",
    "print(f\"\\n処理にかかった時間: {elapsed}sec\")\n",
    "# print(prime)"
   ]
  },
  {
   "cell_type": "code",
   "execution_count": 41,
   "metadata": {},
   "outputs": [
    {
     "name": "stdin",
     "output_type": "stream",
     "text": [
      "素数判定の範囲: 1 -  1000000\n"
     ]
    },
    {
     "name": "stdout",
     "output_type": "stream",
     "text": [
      "\n",
      "処理にかかった時間: 14.576562881469727sec\n"
     ]
    }
   ],
   "source": [
    "# sypy2.py SymPyライブラリ利用 で 素数判定\n",
    "from sympy import isprime\n",
    "import time\n",
    "\n",
    "\n",
    "max = int(input(\"素数判定の範囲: 1 - \"))\n",
    "start = time.time()\n",
    "prime = [i for i in range(max) if isprime(i)]\n",
    "elapsed = time.time() - start\n",
    "\n",
    "print(f\"\\n処理にかかった時間: {elapsed}sec\")\n",
    "# print(prime)"
   ]
  }
 ],
 "metadata": {
  "kernelspec": {
   "display_name": "Python 3",
   "language": "python",
   "name": "python3"
  },
  "language_info": {
   "codemirror_mode": {
    "name": "ipython",
    "version": 3
   },
   "file_extension": ".py",
   "mimetype": "text/x-python",
   "name": "python",
   "nbconvert_exporter": "python",
   "pygments_lexer": "ipython3",
   "version": "3.8.0"
  }
 },
 "nbformat": 4,
 "nbformat_minor": 4
}
