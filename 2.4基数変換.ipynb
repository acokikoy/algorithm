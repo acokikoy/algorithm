{
 "cells": [
  {
   "cell_type": "markdown",
   "metadata": {},
   "source": [
    "# 基数変換"
   ]
  },
  {
   "cell_type": "code",
   "execution_count": 3,
   "metadata": {},
   "outputs": [
    {
     "name": "stdin",
     "output_type": "stream",
     "text": [
      "10進数:  18\n"
     ]
    },
    {
     "name": "stdout",
     "output_type": "stream",
     "text": [
      "2進数: 10010\n"
     ]
    }
   ],
   "source": [
    "# convert1.py 10進数を2進数に変換\n",
    "\n",
    "n = int(input('10進数: '))\n",
    "result = ''\n",
    "\n",
    "while n > 0:\n",
    "    result = str(n % 2) + result\n",
    "    n //= 2\n",
    "\n",
    "print(f\"2進数: {result}\")"
   ]
  },
  {
   "cell_type": "code",
   "execution_count": 21,
   "metadata": {},
   "outputs": [
    {
     "name": "stdin",
     "output_type": "stream",
     "text": [
      "10進数:  18\n"
     ]
    },
    {
     "name": "stdout",
     "output_type": "stream",
     "text": [
      "2進数: 10010\n",
      "3進数:   000\n",
      "8進数:    00\n"
     ]
    }
   ],
   "source": [
    "# convert2.py 10進数を2/3/8進数にそれぞれ変換\n",
    "\n",
    "def convert(n, base):\n",
    "    result = ''\n",
    "\n",
    "    while n > 0:\n",
    "        result = str(n % 2) + result\n",
    "        n //= base\n",
    "\n",
    "    return result\n",
    "\n",
    "n = int(input('10進数: '))\n",
    "print(f\"2進数: {convert(n, 2):>5}\")\n",
    "print(f\"3進数: {convert(n, 3):>5}\")\n",
    "print(f\"8進数: {convert(n, 8):>5}\")"
   ]
  },
  {
   "cell_type": "code",
   "execution_count": 17,
   "metadata": {},
   "outputs": [
    {
     "name": "stdin",
     "output_type": "stream",
     "text": [
      "2進数:  10010\n"
     ]
    },
    {
     "name": "stdout",
     "output_type": "stream",
     "text": [
      "10進数:    18\n"
     ]
    }
   ],
   "source": [
    "# convert3.py 2進数を10進数に変換\n",
    "\n",
    "def convert(num:str):\n",
    "    result = 0\n",
    "    ex = len(num)-1\n",
    "    \n",
    "    for n in num:\n",
    "        result += int(n) * (2 ** ex)\n",
    "        ex -= 1\n",
    "    return result\n",
    "        \n",
    "num = input('2進数: ')\n",
    "print(f\"10進数: {convert(num):>5}\")"
   ]
  },
  {
   "cell_type": "code",
   "execution_count": 16,
   "metadata": {},
   "outputs": [
    {
     "name": "stdout",
     "output_type": "stream",
     "text": [
      "0b10010\n",
      "18\n",
      "0x12\n",
      "18\n"
     ]
    }
   ],
   "source": [
    "# convert4.py bin(), hex()による基数変換\n",
    "a = 18\n",
    "print(bin(a))\n",
    "\n",
    "b = '10010'\n",
    "print(int(b, 2))\n",
    "print(hex(0b10010))\n",
    "print(int(0x12))"
   ]
  },
  {
   "cell_type": "code",
   "execution_count": 27,
   "metadata": {},
   "outputs": [
    {
     "name": "stdout",
     "output_type": "stream",
     "text": [
      "-0b1011\n",
      "0b1000\n",
      "0b1110\n",
      "0b10100\n",
      "0b11\n"
     ]
    }
   ],
   "source": [
    "# ビット演算\n",
    "a = 0b1010\n",
    "b = 0b1100\n",
    "print(bin(~a))\n",
    "print(bin(a & b))\n",
    "print(bin(a | b))\n",
    "print(bin(a << 1))\n",
    "print(bin(b >> 2))"
   ]
  }
 ],
 "metadata": {
  "kernelspec": {
   "display_name": "Python 3",
   "language": "python",
   "name": "python3"
  },
  "language_info": {
   "codemirror_mode": {
    "name": "ipython",
    "version": 3
   },
   "file_extension": ".py",
   "mimetype": "text/x-python",
   "name": "python",
   "nbconvert_exporter": "python",
   "pygments_lexer": "ipython3",
   "version": "3.8.0"
  }
 },
 "nbformat": 4,
 "nbformat_minor": 4
}
